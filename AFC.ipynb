{
 "cells": [
  {
   "cell_type": "markdown",
   "id": "52b76bcd",
   "metadata": {},
   "source": [
    "# Atelier 6\n",
    "\n",
    "\n",
    "## TRAORE Issiaka IRSI 2\n",
    "## AHDDAD Imad IRSI\n",
    "## TRAORE Koudadim Olivier IFA 2"
   ]
  },
  {
   "cell_type": "markdown",
   "id": "99b62a78",
   "metadata": {},
   "source": [
    "## Préparation des données"
   ]
  },
  {
   "cell_type": "code",
   "execution_count": 6,
   "id": "40c01a6e",
   "metadata": {},
   "outputs": [
    {
     "data": {
      "text/html": [
       "<div>\n",
       "<style scoped>\n",
       "    .dataframe tbody tr th:only-of-type {\n",
       "        vertical-align: middle;\n",
       "    }\n",
       "\n",
       "    .dataframe tbody tr th {\n",
       "        vertical-align: top;\n",
       "    }\n",
       "\n",
       "    .dataframe thead th {\n",
       "        text-align: right;\n",
       "    }\n",
       "</style>\n",
       "<table border=\"1\" class=\"dataframe\">\n",
       "  <thead>\n",
       "    <tr style=\"text-align: right;\">\n",
       "      <th></th>\n",
       "      <th>Unnamed: 0</th>\n",
       "      <th>1 a 3 fois par semaine</th>\n",
       "      <th>Chaque 2 semaines</th>\n",
       "      <th>Chaque mois</th>\n",
       "      <th>Jamais</th>\n",
       "      <th>Presque chaque jour</th>\n",
       "      <th>Rarement</th>\n",
       "    </tr>\n",
       "  </thead>\n",
       "  <tbody>\n",
       "    <tr>\n",
       "      <th>0</th>\n",
       "      <td>Arts martiaux</td>\n",
       "      <td>2</td>\n",
       "      <td>0</td>\n",
       "      <td>0</td>\n",
       "      <td>0</td>\n",
       "      <td>1</td>\n",
       "      <td>0</td>\n",
       "    </tr>\n",
       "    <tr>\n",
       "      <th>1</th>\n",
       "      <td>Athletisme</td>\n",
       "      <td>3</td>\n",
       "      <td>2</td>\n",
       "      <td>0</td>\n",
       "      <td>0</td>\n",
       "      <td>1</td>\n",
       "      <td>4</td>\n",
       "    </tr>\n",
       "    <tr>\n",
       "      <th>2</th>\n",
       "      <td>Autre</td>\n",
       "      <td>2</td>\n",
       "      <td>1</td>\n",
       "      <td>1</td>\n",
       "      <td>1</td>\n",
       "      <td>3</td>\n",
       "      <td>4</td>\n",
       "    </tr>\n",
       "    <tr>\n",
       "      <th>3</th>\n",
       "      <td>Sport avec animaux</td>\n",
       "      <td>1</td>\n",
       "      <td>0</td>\n",
       "      <td>0</td>\n",
       "      <td>0</td>\n",
       "      <td>0</td>\n",
       "      <td>0</td>\n",
       "    </tr>\n",
       "    <tr>\n",
       "      <th>4</th>\n",
       "      <td>Sport collectif</td>\n",
       "      <td>5</td>\n",
       "      <td>7</td>\n",
       "      <td>2</td>\n",
       "      <td>0</td>\n",
       "      <td>0</td>\n",
       "      <td>10</td>\n",
       "    </tr>\n",
       "    <tr>\n",
       "      <th>5</th>\n",
       "      <td>Sport mecanique</td>\n",
       "      <td>1</td>\n",
       "      <td>1</td>\n",
       "      <td>0</td>\n",
       "      <td>0</td>\n",
       "      <td>0</td>\n",
       "      <td>0</td>\n",
       "    </tr>\n",
       "  </tbody>\n",
       "</table>\n",
       "</div>"
      ],
      "text/plain": [
       "           Unnamed: 0  1 a 3 fois par semaine  Chaque 2 semaines  Chaque mois  \\\n",
       "0       Arts martiaux                       2                  0            0   \n",
       "1          Athletisme                       3                  2            0   \n",
       "2               Autre                       2                  1            1   \n",
       "3  Sport avec animaux                       1                  0            0   \n",
       "4     Sport collectif                       5                  7            2   \n",
       "5     Sport mecanique                       1                  1            0   \n",
       "\n",
       "   Jamais  Presque chaque jour  Rarement  \n",
       "0       0                    1         0  \n",
       "1       0                    1         4  \n",
       "2       1                    3         4  \n",
       "3       0                    0         0  \n",
       "4       0                    0        10  \n",
       "5       0                    0         0  "
      ]
     },
     "execution_count": 6,
     "metadata": {},
     "output_type": "execute_result"
    }
   ],
   "source": [
    "# import pandas as pd\n",
    "import numpy as np\n",
    "import itertools\n",
    "\n",
    "from scipy.stats import chi2_contingency\n",
    "\n",
    "import matplotlib.pyplot as plt\n",
    "\n",
    "Sports = [\"Arts_martiaux\",\"Athletisme\",\"Autre\",\"Sport_animaux\",\"Sport_collectif\",\"Sport_mecanique\"]\n",
    "\n",
    "Frequence = [\"F1\",\"F2\",\"F3\",\"F4\",\"F5\",\"F6\"]\n",
    "\n",
    "#Lecture fichier csv\n",
    "dataf = pd.read_csv(\"C:/Users/asus/Desktop/Python/sport.csv\")\n",
    "\n",
    "#de dataframe en array\n",
    "datam = dataf[dataf.columns[1:]].to_numpy()\n",
    "dataf\n"
   ]
  },
  {
   "cell_type": "markdown",
   "id": "842c95b3",
   "metadata": {},
   "source": [
    "## Test d'indépendance avec khi2 "
   ]
  },
  {
   "cell_type": "code",
   "execution_count": 7,
   "id": "7855c2fd",
   "metadata": {},
   "outputs": [],
   "source": [
    "#total du tableau\n",
    "grandTotal = np.sum(datam)\n",
    "\n",
    "#Calcul des proportion fij\n",
    "correspondenceMatrix = np.divide(datam,grandTotal)\n",
    "\n",
    "#Marge ligne et colonne\n",
    "rowTotals = np.sum(correspondenceMatrix, axis=1)\n",
    "columnTotals = np.sum(correspondenceMatrix, axis=0)\n",
    "\n",
    "#Matrice d'indépendance fi.*f.j\n",
    "independenceModel = np.outer(rowTotals, columnTotals)\n",
    "\n",
    "#Calcul du khi2\n",
    "\n",
    "chiSquaredStatistic = grandTotal*np.sum(np.square(correspondenceMatrix-independenceModel)/independenceModel)"
   ]
  },
  {
   "cell_type": "markdown",
   "id": "1807640e",
   "metadata": {},
   "source": [
    "## Décomposition de la matrice"
   ]
  },
  {
   "cell_type": "code",
   "execution_count": 8,
   "id": "1f32d274",
   "metadata": {},
   "outputs": [],
   "source": [
    "\n",
    "#La matrice résiduelle\n",
    "standardizedResiduals = np.divide((correspondenceMatrix-independenceModel),np.sqrt(independenceModel))\n",
    "\n",
    "#singular value decomposition(SVD): est la fonction qui fait la decomposition\n",
    "u,s,vh = np.linalg.svd(standardizedResiduals, full_matrices=False)"
   ]
  },
  {
   "cell_type": "markdown",
   "id": "a7d6cb03",
   "metadata": {},
   "source": [
    "## Calcul des composantes (axes)"
   ]
  },
  {
   "cell_type": "code",
   "execution_count": 10,
   "id": "98678188",
   "metadata": {},
   "outputs": [
    {
     "name": "stdout",
     "output_type": "stream",
     "text": [
      "                 Factorial_axis_1  Factorial_axis_2\n",
      "Arts_martiaux           -1.028303          0.833397\n",
      "Athletisme               0.024227          0.131849\n",
      "Autre                   -0.630947         -0.426292\n",
      "Sport_animaux           -0.340395          1.458061\n",
      "Sport_collectif          0.419923         -0.070175\n",
      "Sport_mecanique          0.338127          0.761480\n",
      "F1                      -0.167104          0.349958\n",
      "F2                       0.807511          0.025203\n",
      "F3                      -0.079500         -0.766026\n",
      "F4                      -1.155655          1.639022\n",
      "F5                       0.218910         -0.054365\n",
      "F6                      -0.432945         -0.303579\n"
     ]
    },
    {
     "name": "stderr",
     "output_type": "stream",
     "text": [
      "C:\\Users\\asus\\AppData\\Local\\Temp\\ipykernel_28040\\562720558.py:14: FutureWarning: The frame.append method is deprecated and will be removed from pandas in a future version. Use pandas.concat instead.\n",
      "  dfFirstTwoComponents =  dfFirstTwoComponentsR.append(dfFirstTwoComponentsC)\n"
     ]
    }
   ],
   "source": [
    "stdRows = np.zeros((u.shape[0],u.shape[1]))\n",
    "for i in range(u.shape[0]):\n",
    "    stdRows[i] = np.divide(u[i],np.sqrt(rowTotals[i]))\n",
    "\n",
    "stdCols = np.zeros((vh.shape[0],vh.shape[1]))\n",
    "for i in range(vh.shape[0]):\n",
    "    stdCols[i] = np.divide(vh[i],np.sqrt(columnTotals[i]))\n",
    "\n",
    "rowCoordinates = np.dot(stdRows,np.diag(s))\n",
    "colCoordinates = np.dot(stdCols,np.diag(s))\n",
    "\n",
    "dfFirstTwoComponentsR = pd.DataFrame(data=[l[0:2] for l in rowCoordinates], columns=['Factorial_axis_1', 'Factorial_axis_2'], index=Sports)\n",
    "dfFirstTwoComponentsC = pd.DataFrame(data=[l[0:2] for l in colCoordinates], columns=['Factorial_axis_1', 'Factorial_axis_2'], index=Frequence)\n",
    "dfFirstTwoComponents =  dfFirstTwoComponentsR.append(dfFirstTwoComponentsC)\n",
    " \n",
    "print(dfFirstTwoComponents) "
   ]
  },
  {
   "cell_type": "markdown",
   "id": "70e81051",
   "metadata": {},
   "source": [
    "## Affichage du nuage de points "
   ]
  },
  {
   "cell_type": "code",
   "execution_count": 12,
   "id": "e96101f3",
   "metadata": {},
   "outputs": [
    {
     "data": {
      "image/png": "[encoded data removed]",
      "text/plain": [
       "<Figure size 640x480 with 1 Axes>"
      ]
     },
     "metadata": {},
     "output_type": "display_data"
    }
   ],
   "source": [
    " \n",
    "fig, ax_kwargs = plt.subplots()\n",
    "plt.scatter(dfFirstTwoComponentsR['Factorial_axis_1'], dfFirstTwoComponentsR['Factorial_axis_2'], s = 40, c = 'red')\n",
    "plt.scatter(dfFirstTwoComponentsC['Factorial_axis_1'], dfFirstTwoComponentsC['Factorial_axis_2'], s = 40, c = 'blue')\n",
    "plt.title('scatter plot')\n",
    "ax_kwargs.axvline(c='grey', lw=1)\n",
    "ax_kwargs.axhline(c='grey', lw=1)\n",
    "points=Sports+Frequence\n",
    "for i, txt in enumerate(points):\n",
    "    ax_kwargs.annotate(txt, (dfFirstTwoComponents['Factorial_axis_1'][i], dfFirstTwoComponents['Factorial_axis_2'][i]+0.1),horizontalalignment='center', verticalalignment='center',size=7)\n",
    "plt.show()"
   ]
  },
  {
   "cell_type": "raw",
   "id": "cefed329",
   "metadata": {},
   "source": [
    "===> Les lignes et les colonnes sont représentées respectivement par des points rouges et bleus.\n",
    "===> Sport avec animaux est le type de sport le moins pratiqué et cela le plus souvent 1 à 3 fois par semaine (F1). Il contribute fortement à la formation de l'axe 2.\n",
    "===> Comme le sport avec animaux, les arts martiaux sont pratiqués le plus souvent 1 à 3 fois par semaine. La majorité ne pratiquent jamais ces sports. Les arts martiaus sont faiblement représentés par les deux axes.\n",
    "===> Le sport collectif et l'athlétisme et autres sont les types de sports les plus fréquemment pratiqués par la majorité. Cependant, d'autres s'y adonnent rarement.\n",
    "===> Sport mécanique également des types de sports les moins fréquemment pratiqués par la majorité.\n",
    "===> Du point de vue contribution: les fréquences Presque chaque jour et\tChaque 2 semaines d'une part et sport collectif d'autre part ont une grande contbution à la formation de l'axe 1. Chaque mois, 1 a 3 fois par semaine et Athlétisme contibuent fortement à la formation de l'axe 2. Jamais contribue très peu à la formation des axes."
   ]
  }
 ],
 "metadata": {
  "kernelspec": {
   "display_name": "Python 3 (ipykernel)",
   "language": "python",
   "name": "python3"
  },
  "language_info": {
   "codemirror_mode": {
    "name": "ipython",
    "version": 3
   },
   "file_extension": ".py",
   "mimetype": "text/x-python",
   "name": "python",
   "nbconvert_exporter": "python",
   "pygments_lexer": "ipython3",
   "version": "3.9.13"
  }
 },
 "nbformat": 4,
 "nbformat_minor": 5
}
